{
 "cells": [
  {
   "cell_type": "code",
   "execution_count": 13,
   "metadata": {},
   "outputs": [
    {
     "name": "stdout",
     "output_type": "stream",
     "text": [
      "Mention the number of elements in the array : \n",
      "3\n",
      "The element of the array is : \n",
      "[25, 98, 14]\n",
      "Array before sorting : \n",
      "[25, 98, 14]\n",
      "Sorted Array : \n",
      "[14, 25, 98]\n"
     ]
    }
   ],
   "source": [
    "#Implement Quick Sort algorithm with all the necessary functions.\n",
    "#Partition Function \n",
    "def partition (arr, A, B):\n",
    "    #Selected last element as the Pivot Element\n",
    "    p = arr[B]\n",
    "    i = A - 1\n",
    "    # compare each element with pivot\n",
    "    for j in range(A, B):\n",
    "        if arr[j] <= p:\n",
    "            #Swap function\n",
    "            i = i + 1\n",
    "            (arr[i], arr[j]) = (arr[j], arr[i])\n",
    "    (arr[i + 1], arr[B]) = (arr[B], arr[i + 1])\n",
    "    \n",
    "    #Returning to position where partition is executed.\n",
    "    return i + 1\n",
    "# Applying the quicksort algo\n",
    "def Quicksort(arr, A, B):\n",
    "    if A < B:\n",
    "        pivot = partition(arr, A, B)\n",
    "        Quicksort(arr, A, pivot - 1)\n",
    "        Quicksort(arr, pivot + 1, B)\n",
    "\n",
    "#Taking input from the user.\n",
    "z=int(input(\"Mention the number of elements in the array : \"))\n",
    "print(f\"Mention the number of elements in the array : \\n{z}\")\n",
    "arr=list(map(int, input(\" Enter the elements of the array : \").strip().split()))\n",
    "print(f\"The element of the array is : \\n{arr}\")\n",
    "\n",
    "#Displaying array before sorting\n",
    "print(\"Array before sorting : \")\n",
    "print(arr)\n",
    "#Calling quicksort algorithm\n",
    "Quicksort(arr, 0, len(arr) - 1)\n",
    "\n",
    "#Displaying array after sorting\n",
    "print(\"Sorted Array : \")\n",
    "print(arr)\n"
   ]
  }
 ],
 "metadata": {
  "kernelspec": {
   "display_name": "Python 3.10.5 64-bit",
   "language": "python",
   "name": "python3"
  },
  "language_info": {
   "codemirror_mode": {
    "name": "ipython",
    "version": 3
   },
   "file_extension": ".py",
   "mimetype": "text/x-python",
   "name": "python",
   "nbconvert_exporter": "python",
   "pygments_lexer": "ipython3",
   "version": "3.10.5"
  },
  "orig_nbformat": 4,
  "vscode": {
   "interpreter": {
    "hash": "d8e9909144da57dbd63a6b539786ee8c88e6b9816ba0a47d71050efd4c47bd69"
   }
  }
 },
 "nbformat": 4,
 "nbformat_minor": 2
}
