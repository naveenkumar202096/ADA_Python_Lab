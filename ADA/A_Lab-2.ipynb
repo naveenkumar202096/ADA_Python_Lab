{
 "cells": [
  {
   "cell_type": "code",
   "execution_count": 6,
   "metadata": {},
   "outputs": [
    {
     "name": "stdout",
     "output_type": "stream",
     "text": [
      "The array given for sorted is : \n",
      "98 32 54 69 21 19 2 110 10 \n",
      "Sorted array after doing merge sort : \n",
      "2 10 19 21 32 54 69 98 110 "
     ]
    }
   ],
   "source": [
    "#Implement Merge Sort Algorithm with all the necessary functions.\n",
    "#Defining the function (Merge Sort)\n",
    "def merge_sort(arr):\n",
    "    size = len(arr)\n",
    "    if size > 1:\n",
    "        #Getting middle element of array.\n",
    "        mid = size // 2\n",
    "        #Divide the array in two part left and right from middle element respectively.\n",
    "        left_arr = arr[:mid]\n",
    "        right_arr = arr[mid:]\n",
    "        #Sorting the array.\n",
    "        merge_sort(left_arr)\n",
    "        merge_sort(right_arr)\n",
    "        #Initializing the element of array.\n",
    "        m = 0\n",
    "        n = 0\n",
    "        z = 0\n",
    "        #Storing the array.\n",
    "        left_size = len(left_arr)\n",
    "        right_size = len(right_arr)\n",
    "        while m < left_size and n < right_size:\n",
    "            if left_arr[m] < right_arr[n]:\n",
    "              arr[z] = left_arr[m]\n",
    "              m += 1\n",
    "            else:\n",
    "                arr[z] = right_arr[n]\n",
    "                n += 1\n",
    "            z += 1\n",
    "            #Now, We are checking the element if any one is left or not.\n",
    "        while m < left_size:\n",
    "            arr[z] = left_arr[m]\n",
    "            m += 1\n",
    "            z += 1\n",
    "        while n < right_size:\n",
    "            arr[z]=right_arr[n]\n",
    "            n += 1\n",
    "            z += 1\n",
    "def printarray(arr):\n",
    "    for i in range(len(arr)):\n",
    "        print(arr[i], end=\" \")\n",
    "    #print()\n",
    "    \n",
    "arr = [98,32,54,69,21,19,2,110,10]\n",
    "\n",
    "print(\"The array given for sorted is : \", end=\"\\n\")\n",
    "printarray(arr)\n",
    "merge_sort(arr)\n",
    "print(\"\\nSorted array after doing merge sort : \")\n",
    "printarray(arr)\n"
   ]
  }
 ],
 "metadata": {
  "kernelspec": {
   "display_name": "Python 3.10.5 64-bit",
   "language": "python",
   "name": "python3"
  },
  "language_info": {
   "codemirror_mode": {
    "name": "ipython",
    "version": 3
   },
   "file_extension": ".py",
   "mimetype": "text/x-python",
   "name": "python",
   "nbconvert_exporter": "python",
   "pygments_lexer": "ipython3",
   "version": "3.10.5"
  },
  "orig_nbformat": 4,
  "vscode": {
   "interpreter": {
    "hash": "d8e9909144da57dbd63a6b539786ee8c88e6b9816ba0a47d71050efd4c47bd69"
   }
  }
 },
 "nbformat": 4,
 "nbformat_minor": 2
}
